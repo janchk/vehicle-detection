{
 "cells": [
  {
   "cell_type": "code",
   "execution_count": 1,
   "metadata": {},
   "outputs": [],
   "source": [
    "import cv2\n",
    "import numpy as np\n",
    "from tqdm import tqdm_notebook\n",
    "import os"
   ]
  },
  {
   "cell_type": "code",
   "execution_count": null,
   "metadata": {},
   "outputs": [],
   "source": [
    "PATH_TO_DATA='data_t'\n",
    "PATH_TO_RESULTS='results_her'"
   ]
  },
  {
   "cell_type": "code",
   "execution_count": 22,
   "metadata": {},
   "outputs": [],
   "source": [
    "try:\n",
    "    os.mkdir(PATH_TO_RESULTS)\n",
    "except(OSError):\n",
    "    pass"
   ]
  },
  {
   "cell_type": "code",
   "execution_count": null,
   "metadata": {},
   "outputs": [],
   "source": [
    "def process_pic(img_name):\n",
    "    path = os.path.join(PATH_TO_DATA, img_name)\n",
    "    gray = cv2.cvtColor(cv2.imread(path), cv2.COLOR_BGR2GRAY)\n",
    "    bgc = np.median(gray)\n",
    "    low, high = 0.7 * bgc, 1.6 * bgc\n",
    "    _, one = cv2.threshold(gray, low, 100, cv2.THRESH_BINARY)\n",
    "    _, two = cv2.threshold(gray, high, 100, cv2.THRESH_BINARY)\n",
    "    t = np.add(one, two)\n",
    "    res = np.zeros(t.shape)\n",
    "    res[t != 100] = 1\n",
    "    nlabels, labels, stats, centroids = cv2.connectedComponentsWithStats(res.astype(np.uint8), 4, cv2.CV_32S)\n",
    "\n",
    "    l, r = 300, 700\n",
    "    selected_labels = []\n",
    "    for i in range(labels.shape[0]):\n",
    "        for j in range(labels.shape[1]):\n",
    "            lab = labels[i][j]\n",
    "            if lab > 0 and (stats[lab, 4] < l or stats[lab, 4] > r):\n",
    "                labels[i][j] = 0\n",
    "            elif lab > 0:\n",
    "                selected_labels.append(lab)\n",
    "\n",
    "    not_car = []\n",
    "    selected_labels = set(selected_labels)\n",
    "\n",
    "    for lab in selected_labels:\n",
    "        max_side_size = np.sqrt(stats[lab, 4]) * 2\n",
    "        if max(stats[lab, 2:4]) > max_side_size:\n",
    "            not_car.append(lab)\n",
    "\n",
    "    for nc in not_car:\n",
    "        selected_labels.remove(nc)\n",
    "\n",
    "    #imgname score xmin ymin xmax ymax\n",
    "    for lab in selected_labels:\n",
    "        xmin = float(stats[lab, 0])\n",
    "        ymin = float(stats[lab, 1])\n",
    "        xmax = float(stats[lab, 0] + stats[lab, 2])\n",
    "        ymax = float(stats[lab, 1] + stats[lab, 3])\n",
    "\n",
    "        score = 1 / np.abs(400 - stats[lab, 4])\n",
    "\n",
    "        yield \"{} {:.5} {} {} {} {}\\n\".format(img_name.replace('.png', ''), score, xmin, ymin, xmax, ymax)\n",
    "\n",
    "\n",
    "def process_dir(dir_path=PATH_TO_DATA, filename='results_small_vehicle.txt'):\n",
    "    img_names = os.listdir(dir_path)\n",
    "    f = open(os.path.join(PATH_TO_RESULTS, filename), 'w+')\n",
    "    for iname in tqdm_notebook(img_names):\n",
    "        if not iname.endswith('.png'):\n",
    "            continue\n",
    "        i = 0\n",
    "        for line in process_pic(iname):\n",
    "            f.write(line)\n",
    "            i += 1\n",
    "        print('{} cars detected on img {}'.format(i, iname))\n",
    "\n",
    "    f.close()\n"
   ]
  },
  {
   "cell_type": "code",
   "execution_count": 27,
   "metadata": {},
   "outputs": [
    {
     "data": {
      "text/plain": [
       "HBox(children=(IntProgress(value=0, max=67), HTML(value='')))"
      ]
     },
     "execution_count": 0,
     "metadata": {},
     "output_type": "execute_result"
    },
    {
     "name": "stdout",
     "output_type": "stream",
     "text": [
      "6 cars detected on img P0116.png\n"
     ]
    },
    {
     "name": "stdout",
     "output_type": "stream",
     "text": [
      "7 cars detected on img P0076.png\n"
     ]
    },
    {
     "name": "stdout",
     "output_type": "stream",
     "text": [
      "5 cars detected on img P0103.png\n"
     ]
    }
   ],
   "source": [
    "process_dir()"
   ]
  },
  {
   "cell_type": "code",
   "execution_count": null,
   "metadata": {},
   "outputs": [],
   "source": []
  }
 ],
 "metadata": {
  "kernelspec": {
   "display_name": "Python 3",
   "language": "python",
   "name": "python3"
  },
  "language_info": {
   "codemirror_mode": {
    "name": "ipython",
    "version": 3
   },
   "file_extension": ".py",
   "mimetype": "text/x-python",
   "name": "python",
   "nbconvert_exporter": "python",
   "pygments_lexer": "ipython3",
   "version": "3.7.1"
  }
 },
 "nbformat": 4,
 "nbformat_minor": 2
}
